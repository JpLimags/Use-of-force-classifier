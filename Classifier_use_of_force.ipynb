{
 "cells": [
  {
   "cell_type": "markdown",
   "metadata": {},
   "source": [
    "## Descrição do projeto "
   ]
  },
  {
   "cell_type": "code",
   "execution_count": 45,
   "metadata": {},
   "outputs": [],
   "source": [
    "# Importação das bibliotecas\n",
    "\n",
    "import pandas as pd \n",
    "import seaborn as sns\n",
    "import matplotlib.pyplot as plt\n",
    "import datetime"
   ]
  },
  {
   "cell_type": "markdown",
   "metadata": {},
   "source": [
    "## Obtenção dos dados"
   ]
  },
  {
   "cell_type": "code",
   "execution_count": 46,
   "metadata": {},
   "outputs": [],
   "source": [
    "# Import do arquivo Use_of_force.csv para um DataFrame\n",
    "\n",
    "df = pd.read_csv('./datasets/Use_Of_Force.csv')"
   ]
  },
  {
   "cell_type": "markdown",
   "metadata": {},
   "source": [
    "**Dicionário de variáveis**\n",
    "\n",
    "Abaixo temo a descrição dos atributos contidos dentro desse conjunto de dados: \n",
    "\n",
    "- `ID` - Número de identificação do uso de força\n",
    "- `Incident_Num` - Número identificador do incidente de força\n",
    "- `Incident_Type` - Classificação do uso de força\n",
    "- `Ocurred_date_time` - Data e hora do ocorrido \n",
    "- `Precinct` - Distrito onde ocorreu o uso de força\n",
    "- `Sector` -  Setor onde ocorreu o uso de força\n",
    "- `Beat` - 'Batida' onde ocorreu uso da força\n",
    "- `Officer_ID` - Número identificor do oficial \n",
    "- `Subject_ID` - Número identificador do sujeito\n",
    "- `Subject_Race` - Raça do sujeito do uso de força\n",
    "- `Subject_Gender` - Gênero do sujeito do uso da força"
   ]
  },
  {
   "cell_type": "code",
   "execution_count": 47,
   "metadata": {},
   "outputs": [
    {
     "data": {
      "text/html": [
       "<div>\n",
       "<style scoped>\n",
       "    .dataframe tbody tr th:only-of-type {\n",
       "        vertical-align: middle;\n",
       "    }\n",
       "\n",
       "    .dataframe tbody tr th {\n",
       "        vertical-align: top;\n",
       "    }\n",
       "\n",
       "    .dataframe thead th {\n",
       "        text-align: right;\n",
       "    }\n",
       "</style>\n",
       "<table border=\"1\" class=\"dataframe\">\n",
       "  <thead>\n",
       "    <tr style=\"text-align: right;\">\n",
       "      <th></th>\n",
       "      <th>ID</th>\n",
       "      <th>Incident_Num</th>\n",
       "      <th>Incident_Type</th>\n",
       "      <th>Occured_date_time</th>\n",
       "      <th>Precinct</th>\n",
       "      <th>Sector</th>\n",
       "      <th>Beat</th>\n",
       "      <th>Officer_ID</th>\n",
       "      <th>Subject_ID</th>\n",
       "      <th>Subject_Race</th>\n",
       "      <th>Subject_Gender</th>\n",
       "    </tr>\n",
       "  </thead>\n",
       "  <tbody>\n",
       "    <tr>\n",
       "      <th>0</th>\n",
       "      <td>2023UOF-0112-2422-30042</td>\n",
       "      <td>70534</td>\n",
       "      <td>Level 1 - Use of Force</td>\n",
       "      <td>01/14/2023 09:15:00 PM</td>\n",
       "      <td>OOJ</td>\n",
       "      <td>OOJ</td>\n",
       "      <td>99</td>\n",
       "      <td>2419</td>\n",
       "      <td>30914</td>\n",
       "      <td>White</td>\n",
       "      <td>Female</td>\n",
       "    </tr>\n",
       "    <tr>\n",
       "      <th>1</th>\n",
       "      <td>2018UOF-0300-2313-14902</td>\n",
       "      <td>21833</td>\n",
       "      <td>Level 1 - Use of Force</td>\n",
       "      <td>03/08/2018 03:27:00 PM</td>\n",
       "      <td>North</td>\n",
       "      <td>UNION</td>\n",
       "      <td>U1</td>\n",
       "      <td>2309</td>\n",
       "      <td>15792</td>\n",
       "      <td>White</td>\n",
       "      <td>Female</td>\n",
       "    </tr>\n",
       "    <tr>\n",
       "      <th>2</th>\n",
       "      <td>2015UOF-1167-1239-5068</td>\n",
       "      <td>6075</td>\n",
       "      <td>Level 1 - Use of Force</td>\n",
       "      <td>07/15/2015 04:26:00 AM</td>\n",
       "      <td>North</td>\n",
       "      <td>BOY</td>\n",
       "      <td>B1</td>\n",
       "      <td>1646</td>\n",
       "      <td>5032</td>\n",
       "      <td>Black or African American</td>\n",
       "      <td>Male</td>\n",
       "    </tr>\n",
       "    <tr>\n",
       "      <th>3</th>\n",
       "      <td>2023UOF-0718-2442-425</td>\n",
       "      <td>73829</td>\n",
       "      <td>Level 1 - Use of Force</td>\n",
       "      <td>08/11/2023 08:15:00 PM</td>\n",
       "      <td>East</td>\n",
       "      <td>GEORGE</td>\n",
       "      <td>G1</td>\n",
       "      <td>2438</td>\n",
       "      <td>424</td>\n",
       "      <td>White</td>\n",
       "      <td>Female</td>\n",
       "    </tr>\n",
       "    <tr>\n",
       "      <th>4</th>\n",
       "      <td>2016UOF-0263-1901-7582</td>\n",
       "      <td>9918</td>\n",
       "      <td>Level 1 - Use of Force</td>\n",
       "      <td>02/22/2016 08:31:00 PM</td>\n",
       "      <td>East</td>\n",
       "      <td>EDWARD</td>\n",
       "      <td>E2</td>\n",
       "      <td>1848</td>\n",
       "      <td>7531</td>\n",
       "      <td>Black or African American</td>\n",
       "      <td>Male</td>\n",
       "    </tr>\n",
       "  </tbody>\n",
       "</table>\n",
       "</div>"
      ],
      "text/plain": [
       "                        ID  Incident_Num           Incident_Type  \\\n",
       "0  2023UOF-0112-2422-30042         70534  Level 1 - Use of Force   \n",
       "1  2018UOF-0300-2313-14902         21833  Level 1 - Use of Force   \n",
       "2   2015UOF-1167-1239-5068          6075  Level 1 - Use of Force   \n",
       "3    2023UOF-0718-2442-425         73829  Level 1 - Use of Force   \n",
       "4   2016UOF-0263-1901-7582          9918  Level 1 - Use of Force   \n",
       "\n",
       "        Occured_date_time Precinct  Sector Beat  Officer_ID  Subject_ID  \\\n",
       "0  01/14/2023 09:15:00 PM      OOJ     OOJ   99        2419       30914   \n",
       "1  03/08/2018 03:27:00 PM    North   UNION   U1        2309       15792   \n",
       "2  07/15/2015 04:26:00 AM    North     BOY   B1        1646        5032   \n",
       "3  08/11/2023 08:15:00 PM     East  GEORGE   G1        2438         424   \n",
       "4  02/22/2016 08:31:00 PM     East  EDWARD   E2        1848        7531   \n",
       "\n",
       "                Subject_Race Subject_Gender  \n",
       "0                      White         Female  \n",
       "1                      White         Female  \n",
       "2  Black or African American           Male  \n",
       "3                      White         Female  \n",
       "4  Black or African American           Male  "
      ]
     },
     "execution_count": 47,
     "metadata": {},
     "output_type": "execute_result"
    }
   ],
   "source": [
    "df.head()"
   ]
  },
  {
   "cell_type": "code",
   "execution_count": 48,
   "metadata": {},
   "outputs": [
    {
     "name": "stdout",
     "output_type": "stream",
     "text": [
      "Informações gerais: \n",
      "----------------------------------------------------------------------\n",
      "<class 'pandas.core.frame.DataFrame'>\n",
      "RangeIndex: 17262 entries, 0 to 17261\n",
      "Data columns (total 11 columns):\n",
      " #   Column             Non-Null Count  Dtype \n",
      "---  ------             --------------  ----- \n",
      " 0   ID                 17262 non-null  object\n",
      " 1   Incident_Num       17262 non-null  int64 \n",
      " 2   Incident_Type      17262 non-null  object\n",
      " 3   Occured_date_time  17262 non-null  object\n",
      " 4   Precinct           17262 non-null  object\n",
      " 5   Sector             15820 non-null  object\n",
      " 6   Beat               17262 non-null  object\n",
      " 7   Officer_ID         17262 non-null  int64 \n",
      " 8   Subject_ID         17262 non-null  int64 \n",
      " 9   Subject_Race       17262 non-null  object\n",
      " 10  Subject_Gender     17262 non-null  object\n",
      "dtypes: int64(3), object(8)\n",
      "memory usage: 1.4+ MB\n",
      "None\n",
      "----------------------------------------------------------------------\n",
      "Tamanho do conjunto de dados\n"
     ]
    }
   ],
   "source": [
    "#Informações gerais do dataset\n",
    "\n",
    "print('Informações gerais: ')\n",
    "print('-------'*10)\n",
    "print(df.info())\n",
    "print('-------'*10)\n",
    "print(\"Tamanho do conjunto de dados\")\n",
    "#print(f'{df.shape}')"
   ]
  },
  {
   "cell_type": "code",
   "execution_count": 49,
   "metadata": {},
   "outputs": [
    {
     "name": "stderr",
     "output_type": "stream",
     "text": [
      "C:\\Users\\Jp Lima\\AppData\\Local\\Temp\\ipykernel_18872\\536686796.py:3: UserWarning: Could not infer format, so each element will be parsed individually, falling back to `dateutil`. To ensure parsing is consistent and as-expected, please specify a format.\n",
      "  df['Occured_date_time'] = pd.to_datetime(df['Occured_date_time'])\n"
     ]
    }
   ],
   "source": [
    "#Conversão das datas para o formato datetime\n",
    "\n",
    "df['Occured_date_time'] = pd.to_datetime(df['Occured_date_time'])"
   ]
  },
  {
   "cell_type": "markdown",
   "metadata": {},
   "source": [
    "### Dados Faltantes\n",
    "\n",
    "Durante a nossa análise exploratória, constatamos que, das 11 colunas presentes em nosso conjunto de dados, a coluna `Sector` contém aproximadamente 1442 amostras ausentes."
   ]
  },
  {
   "cell_type": "code",
   "execution_count": 50,
   "metadata": {},
   "outputs": [
    {
     "data": {
      "text/plain": [
       "ID                      0\n",
       "Incident_Num            0\n",
       "Incident_Type           0\n",
       "Occured_date_time       0\n",
       "Precinct                0\n",
       "Sector               1442\n",
       "Beat                    0\n",
       "Officer_ID              0\n",
       "Subject_ID              0\n",
       "Subject_Race            0\n",
       "Subject_Gender          0\n",
       "dtype: int64"
      ]
     },
     "execution_count": 50,
     "metadata": {},
     "output_type": "execute_result"
    }
   ],
   "source": [
    "df.isnull().sum()"
   ]
  },
  {
   "cell_type": "markdown",
   "metadata": {},
   "source": [
    "## Visualização de dados "
   ]
  },
  {
   "cell_type": "markdown",
   "metadata": {},
   "source": [
    "1.Nestes primeiros gráficos buscamos entender de que forma se distribuição dos incidentes do uso da força ao longo dos anos, meses. Porém se fez nessário converter essas para o padrão datetime."
   ]
  },
  {
   "cell_type": "code",
   "execution_count": 89,
   "metadata": {},
   "outputs": [
    {
     "data": {
      "text/plain": [
       "<Axes: >"
      ]
     },
     "execution_count": 89,
     "metadata": {},
     "output_type": "execute_result"
    },
    {
     "data": {
      "image/png": "[encoded data removed]",
      "text/plain": [
       "<Figure size 800x600 with 1 Axes>"
      ]
     },
     "metadata": {},
     "output_type": "display_data"
    }
   ],
   "source": [
    "plt.figure(figsize=(8,6))\n",
    "df['ano'] = df['Occured_date_time'].dt.year\n",
    "df['ano'].hist(bins=21)"
   ]
  }
 ],
 "metadata": {
  "kernelspec": {
   "display_name": "base",
   "language": "python",
   "name": "python3"
  },
  "language_info": {
   "codemirror_mode": {
    "name": "ipython",
    "version": 3
   },
   "file_extension": ".py",
   "mimetype": "text/x-python",
   "name": "python",
   "nbconvert_exporter": "python",
   "pygments_lexer": "ipython3",
   "version": "3.11.5"
  }
 },
 "nbformat": 4,
 "nbformat_minor": 2
}
